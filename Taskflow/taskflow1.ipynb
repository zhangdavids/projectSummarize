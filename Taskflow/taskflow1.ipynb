{
 "cells": [
  {
   "cell_type": "markdown",
   "metadata": {},
   "source": [
    "## taskflow 详解"
   ]
  },
  {
   "cell_type": "code",
   "execution_count": 1,
   "metadata": {
    "collapsed": false
   },
   "outputs": [
    {
     "name": "stdout",
     "output_type": "stream",
     "text": [
      "Flow State:RUNNING\n",
      "Flow Details:{'engine': <taskflow.engines.action_engine.engine.SerialActionEngine object at 0x10c4516d0>, 'old_state': 'PENDING', 'flow_name': u'simple-linear-listen', 'flow_uuid': '4c07a097-4816-4be9-8fa5-e5ad19e7635e'}\n",
      "A:a\n",
      "B : b\n",
      "Flow State:SUCCESS\n",
      "Flow Details:{'engine': <taskflow.engines.action_engine.engine.SerialActionEngine object at 0x10c4516d0>, 'old_state': 'RUNNING', 'flow_name': u'simple-linear-listen', 'flow_uuid': '4c07a097-4816-4be9-8fa5-e5ad19e7635e'}\n"
     ]
    }
   ],
   "source": [
    "#!/usr/bin/env python\n",
    "# coding=utf-8\n",
    "\n",
    "from __future__ import print_function\n",
    "import taskflow.engines\n",
    "from taskflow.patterns import linear_flow as lf\n",
    "from taskflow import task\n",
    "\n",
    "def flow_watch(state, details):\n",
    "    print(\"Flow State:{}\".format(state))\n",
    "    print(\"Flow Details:{}\".format(details))\n",
    "\n",
    "class A(task.Task):\n",
    "    def execute(self, a_msg, *args, **kwargs):\n",
    "        print('A:{}' . format(a_msg))\n",
    "\n",
    "class B(task.Task):\n",
    "    def execute(self, b_msg, *args, **kwargs):\n",
    "        print('B : {}' . format(b_msg))\n",
    "\n",
    "flow = lf.Flow('simple-linear-listen').add(\n",
    "    A(),\n",
    "    B()\n",
    "    )\n",
    "\n",
    "engine = taskflow.engines.load(flow, store = dict(a_msg = 'a', b_msg = 'b'))\n",
    "\n",
    "engine.notifier.register('*', flow_watch)\n",
    "\n",
    "engine.run()\n"
   ]
  },
  {
   "cell_type": "code",
   "execution_count": null,
   "metadata": {
    "collapsed": true
   },
   "outputs": [],
   "source": [
    "### 监听任务"
   ]
  },
  {
   "cell_type": "code",
   "execution_count": 3,
   "metadata": {
    "collapsed": false
   },
   "outputs": [
    {
     "name": "stdout",
     "output_type": "stream",
     "text": [
      "Flow State:RUNNING\n",
      "Flow Details:{'engine': <taskflow.engines.action_engine.engine.SerialActionEngine object at 0x10c807790>, 'old_state': 'PENDING', 'flow_name': u'simple-linear-listen', 'flow_uuid': 'd4470d4f-1a17-44ec-9d55-056c3f74f9c5'}\n",
      "Task state:RUNNING\n",
      "Task details:{'engine': <taskflow.engines.action_engine.engine.SerialActionEngine object at 0x10c807790>, 'old_state': 'PENDING', 'flow_name': u'simple-linear-listen', 'flow_uuid': 'd4470d4f-1a17-44ec-9d55-056c3f74f9c5'}\n",
      "A:a\n",
      "B : b\n",
      "Flow State:SUCCESS\n",
      "Flow Details:{'engine': <taskflow.engines.action_engine.engine.SerialActionEngine object at 0x10c807790>, 'old_state': 'RUNNING', 'flow_name': u'simple-linear-listen', 'flow_uuid': 'd4470d4f-1a17-44ec-9d55-056c3f74f9c5'}\n",
      "Task state:SUCCESS\n",
      "Task details:{'engine': <taskflow.engines.action_engine.engine.SerialActionEngine object at 0x10c807790>, 'old_state': 'RUNNING', 'flow_name': u'simple-linear-listen', 'flow_uuid': 'd4470d4f-1a17-44ec-9d55-056c3f74f9c5'}\n"
     ]
    }
   ],
   "source": [
    "#!/usr/bin/env python\n",
    "# coding=utf-8\n",
    "\n",
    "from __future__ import print_function\n",
    "import taskflow.engines\n",
    "from taskflow.patterns import linear_flow as lf\n",
    "from taskflow import task\n",
    "\n",
    "def flow_watch(state, details):\n",
    "    print(\"Flow State:{}\".format(state))\n",
    "    print(\"Flow Details:{}\".format(details))\n",
    "\n",
    "def task_watch(state, details):\n",
    "    print('Task state:{}'.format(state))\n",
    "    print('Task details:{}'.format(details))\n",
    "\n",
    "class A(task.Task):\n",
    "    def execute(self, a_msg, *args, **kwargs):\n",
    "        print('A:{}' . format(a_msg))\n",
    "\n",
    "class B(task.Task):\n",
    "    def execute(self, b_msg, *args, **kwargs):\n",
    "        print('B : {}' . format(b_msg))\n",
    "\n",
    "flow = lf.Flow('simple-linear-listen').add(\n",
    "    A(),\n",
    "    B()\n",
    "    )\n",
    "\n",
    "engine = taskflow.engines.load(flow, store = dict(a_msg = 'a', b_msg = 'b'))\n",
    "\n",
    "engine.notifier.register('*', flow_watch)\n",
    "\n",
    "engine.notifier.register('*', task_watch)\n",
    "\n",
    "engine.run()"
   ]
  },
  {
   "cell_type": "code",
   "execution_count": 4,
   "metadata": {
    "collapsed": false
   },
   "outputs": [
    {
     "name": "stdout",
     "output_type": "stream",
     "text": [
      "A : a\n",
      "B : b\n",
      "C : c\n",
      "B b revert\n",
      "A a revert\n",
      "flow failed:C IOError\n"
     ]
    }
   ],
   "source": [
    "#!/usr/bin/env python\n",
    "# coding=utf-8\n",
    "\n",
    "from __future__ import print_function\n",
    "import taskflow.engines\n",
    "from taskflow.patterns import linear_flow as lf\n",
    "from taskflow import task\n",
    "\n",
    "class A(task.Task):\n",
    "    def execute(self, a_msg, *args, **kwargs):\n",
    "        print('A : {}' . format(a_msg))\n",
    "\n",
    "    def revert(self, a_msg, *args, **kwargs):\n",
    "        print('A {} revert' . format(a_msg))\n",
    "\n",
    "class B(task.Task):\n",
    "    def execute(self, b_msg, *args, **kwargs):\n",
    "        print('B : {}' . format(b_msg))\n",
    "\n",
    "    def revert(self, b_msg, *args, **kwargs):\n",
    "        print('B {} revert' .format(b_msg))\n",
    "\n",
    "class C(task.Task):\n",
    "    def execute(self, c_msg, *args, **kwargs):\n",
    "        print('C : {}' . format(c_msg))\n",
    "        raise IOError('C IOError')\n",
    "\n",
    "flow = lf.Flow('simple-linear-listen').add(\n",
    "    A(),\n",
    "    B(),\n",
    "    C()\n",
    "    )\n",
    "\n",
    "engine = taskflow.engines.load(flow, store = dict(a_msg = 'a', b_msg = 'b',c_msg = 'c'))\n",
    "try:\n",
    "    engine.run()\n",
    "except Exception as e:\n",
    "    print(\"flow failed:{}\" .format(e))"
   ]
  },
  {
   "cell_type": "code",
   "execution_count": null,
   "metadata": {
    "collapsed": true
   },
   "outputs": [],
   "source": []
  }
 ],
 "metadata": {
  "kernelspec": {
   "display_name": "Python 2",
   "language": "python",
   "name": "python2"
  },
  "language_info": {
   "codemirror_mode": {
    "name": "ipython",
    "version": 2
   },
   "file_extension": ".py",
   "mimetype": "text/x-python",
   "name": "python",
   "nbconvert_exporter": "python",
   "pygments_lexer": "ipython2",
   "version": "2.7.12"
  }
 },
 "nbformat": 4,
 "nbformat_minor": 2
}
